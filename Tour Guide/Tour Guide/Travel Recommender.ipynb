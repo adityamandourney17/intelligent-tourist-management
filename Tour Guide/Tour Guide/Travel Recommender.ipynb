{
 "cells": [
  {
   "cell_type": "code",
   "execution_count": 1,
   "id": "af8773e3",
   "metadata": {},
   "outputs": [],
   "source": [
    "# Import necessary libraries\n",
    "import pandas as pd\n",
    "from sklearn.feature_extraction.text import TfidfVectorizer\n",
    "from sklearn.metrics.pairwise import cosine_similarity\n",
    "from sklearn.model_selection import train_test_split\n",
    "from sklearn.ensemble import RandomForestClassifier\n",
    "from sklearn.metrics import accuracy_score\n",
    "\n",
    "# Load datasets\n",
    "city_df = pd.read_csv(\"Data/City.csv\")\n",
    "places_df = pd.read_csv(\"Data/Places.csv\")\n",
    "\n",
    "# Merge datasets on 'City' column\n",
    "merged_df = pd.merge(city_df, places_df, on=\"\n",
    "                     \")\n"
   ]
  },
  {
   "cell_type": "code",
   "execution_count": 2,
   "id": "165b16cd",
   "metadata": {},
   "outputs": [],
   "source": [
    "merged_df = merged_df.dropna(subset=['Type'])"
   ]
  },
  {
   "cell_type": "code",
   "execution_count": 3,
   "id": "a91520b3",
   "metadata": {},
   "outputs": [
    {
     "data": {
      "text/html": [
       "<div>\n",
       "<style scoped>\n",
       "    .dataframe tbody tr th:only-of-type {\n",
       "        vertical-align: middle;\n",
       "    }\n",
       "\n",
       "    .dataframe tbody tr th {\n",
       "        vertical-align: top;\n",
       "    }\n",
       "\n",
       "    .dataframe thead th {\n",
       "        text-align: right;\n",
       "    }\n",
       "</style>\n",
       "<table border=\"1\" class=\"dataframe\">\n",
       "  <thead>\n",
       "    <tr style=\"text-align: right;\">\n",
       "      <th></th>\n",
       "      <th>City</th>\n",
       "      <th>Ratings_x</th>\n",
       "      <th>Ideal_duration</th>\n",
       "      <th>Best_time_to_visit</th>\n",
       "      <th>City_desc</th>\n",
       "      <th>Type</th>\n",
       "      <th>Place</th>\n",
       "      <th>Ratings_y</th>\n",
       "      <th>Distance</th>\n",
       "      <th>DistanceFromCity</th>\n",
       "      <th>Place_desc</th>\n",
       "    </tr>\n",
       "  </thead>\n",
       "  <tbody>\n",
       "    <tr>\n",
       "      <th>1</th>\n",
       "      <td>Manali</td>\n",
       "      <td>4.5</td>\n",
       "      <td>2-4</td>\n",
       "      <td>October-June</td>\n",
       "      <td>[' One of the most popular hill stations in Hi...</td>\n",
       "      <td>Valley</td>\n",
       "      <td>2. Engage in the Adventures of Solang Valley</td>\n",
       "      <td>4.6</td>\n",
       "      <td>8 km  from city center</td>\n",
       "      <td>8.0</td>\n",
       "      <td>Solang Valley is one of the most popular tour...</td>\n",
       "    </tr>\n",
       "    <tr>\n",
       "      <th>2</th>\n",
       "      <td>Manali</td>\n",
       "      <td>4.5</td>\n",
       "      <td>2-4</td>\n",
       "      <td>October-June</td>\n",
       "      <td>[' One of the most popular hill stations in Hi...</td>\n",
       "      <td>Waterfall</td>\n",
       "      <td>3. Jogini Waterfall</td>\n",
       "      <td>4.6</td>\n",
       "      <td>4 km  from city center</td>\n",
       "      <td>4.0</td>\n",
       "      <td>Jogini Waterfall is located about 3 kilometres...</td>\n",
       "    </tr>\n",
       "    <tr>\n",
       "      <th>3</th>\n",
       "      <td>Manali</td>\n",
       "      <td>4.5</td>\n",
       "      <td>2-4</td>\n",
       "      <td>October-June</td>\n",
       "      <td>[' One of the most popular hill stations in Hi...</td>\n",
       "      <td>Temple</td>\n",
       "      <td>4. Hadimba Temple</td>\n",
       "      <td>4.4</td>\n",
       "      <td>1 km  from city center</td>\n",
       "      <td>1.0</td>\n",
       "      <td>Hadimba temple, away from the hustle and bust...</td>\n",
       "    </tr>\n",
       "  </tbody>\n",
       "</table>\n",
       "</div>"
      ],
      "text/plain": [
       "     City  Ratings_x Ideal_duration Best_time_to_visit  \\\n",
       "1  Manali        4.5            2-4       October-June   \n",
       "2  Manali        4.5            2-4       October-June   \n",
       "3  Manali        4.5            2-4       October-June   \n",
       "\n",
       "                                           City_desc       Type  \\\n",
       "1  [' One of the most popular hill stations in Hi...     Valley   \n",
       "2  [' One of the most popular hill stations in Hi...  Waterfall   \n",
       "3  [' One of the most popular hill stations in Hi...     Temple   \n",
       "\n",
       "                                          Place  Ratings_y  \\\n",
       "1  2. Engage in the Adventures of Solang Valley        4.6   \n",
       "2                           3. Jogini Waterfall        4.6   \n",
       "3                             4. Hadimba Temple        4.4   \n",
       "\n",
       "                 Distance  DistanceFromCity  \\\n",
       "1  8 km  from city center               8.0   \n",
       "2  4 km  from city center               4.0   \n",
       "3  1 km  from city center               1.0   \n",
       "\n",
       "                                          Place_desc  \n",
       "1   Solang Valley is one of the most popular tour...  \n",
       "2  Jogini Waterfall is located about 3 kilometres...  \n",
       "3   Hadimba temple, away from the hustle and bust...  "
      ]
     },
     "execution_count": 3,
     "metadata": {},
     "output_type": "execute_result"
    }
   ],
   "source": [
    "merged_df.head(3)"
   ]
  },
  {
   "cell_type": "code",
   "execution_count": 4,
   "id": "0e2823c2",
   "metadata": {},
   "outputs": [
    {
     "data": {
      "text/plain": [
       "array(['October-June', 'JulyOctober', 'September-June', 'October-March',\n",
       "       'September-February', 'November-February', 'April-October', nan,\n",
       "       'September-March', 'SeptemberJune', '-February', 'March-June',\n",
       "       'November-March', 'October-February', 'OctoberMarch',\n",
       "       'October-May', 'December-February', 'July-March', '-'],\n",
       "      dtype=object)"
      ]
     },
     "execution_count": 4,
     "metadata": {},
     "output_type": "execute_result"
    }
   ],
   "source": [
    "merged_df[\"Best_time_to_visit\"].unique()"
   ]
  },
  {
   "cell_type": "code",
   "execution_count": 5,
   "id": "b95e41fa",
   "metadata": {},
   "outputs": [
    {
     "data": {
      "text/plain": [
       "array(['Valley', 'Waterfall', 'Temple', 'Gufa', 'Culture', 'Lake', 'Trek',\n",
       "       'Falls', 'Club', 'Sanctuary', 'Estate', 'Museum', 'Palace',\n",
       "       'Shopping', 'Festival', 'Fort', 'Park', 'Hills', 'Beach', 'Dam',\n",
       "       'Lighthouse', 'Church', 'Market', 'Ghat', 'Zoo', 'Aquarium',\n",
       "       'Gram', 'Garden', 'Bazar', 'Smarak', 'Mahal', 'View Point', 'Mutt',\n",
       "       'Cave', 'Trail'], dtype=object)"
      ]
     },
     "execution_count": 5,
     "metadata": {},
     "output_type": "execute_result"
    }
   ],
   "source": [
    "merged_df[\"Type\"].unique()"
   ]
  },
  {
   "cell_type": "code",
   "execution_count": 6,
   "id": "383cdf34",
   "metadata": {},
   "outputs": [
    {
     "data": {
      "text/plain": [
       "array(['Manali', 'Leh Ladakh', 'Coorg', 'Andaman', 'Lakshadweep', 'Goa',\n",
       "       'Udaipur', 'Srinagar', 'Gangtok', 'Munnar', 'Varkala',\n",
       "       'Mcleodganj', 'Rishikesh', 'Alleppey', 'Darjeeling', 'Nainital',\n",
       "       'Shimla', 'Ooty', 'Jaipur', 'Lonavala', 'Mussoorie', 'Kodaikanal',\n",
       "       'Dalhousie', 'Pachmarhi', 'Varanasi', 'Mumbai', 'Agra', 'Kolkata',\n",
       "       'Jodhpur', 'Bangalore', 'Amritsar', 'Delhi', 'Jaisalmer',\n",
       "       'Mount Abu', 'Wayanad', 'Hyderabad', 'Pondicherry', 'Khajuraho',\n",
       "       'Chennai', 'Vaishno Devi', 'Ajanta and Ellora Caves', 'Haridwar',\n",
       "       'Kanyakumari', 'Pune', 'Kochi', 'Ahmedabad', 'Mysore',\n",
       "       'Chandigarh', 'Hampi', 'Gulmarg', 'Almora', 'Shirdi', 'Auli',\n",
       "       'Madurai', 'Amarnath', 'Bodh Gaya', 'Mahabaleshwar',\n",
       "       'Visakhapatnam', 'Kasol', 'Nashik', 'Tirupati', 'Ujjain',\n",
       "       'Jim Corbett National Park', 'Gwalior', 'Mathura', 'Alibaug',\n",
       "       'Rameshwaram', 'Vrindavan', 'Coimbatore', 'Lucknow', 'Digha',\n",
       "       'Dharamshala', 'Kovalam', 'Madikeri', 'Matheran', 'Ranthambore',\n",
       "       'Agartala', 'Khandala', 'Kalimpong', 'Thanjavur', 'Bhubaneswar',\n",
       "       'Ajmer', 'Aurangabad', 'Jammu', 'Dehradun', 'Puri', 'Cherrapunji',\n",
       "       'Bikaner', 'Shimoga (Shivamogga)', 'Hogenakkal', 'Kasauli',\n",
       "       'Pushkar', 'Chittorgarh', 'Nahan', 'Lavasa', 'Poovar'],\n",
       "      dtype=object)"
      ]
     },
     "execution_count": 6,
     "metadata": {},
     "output_type": "execute_result"
    }
   ],
   "source": [
    "merged_df[\"City\"].unique()"
   ]
  },
  {
   "cell_type": "code",
   "execution_count": 7,
   "id": "bec3cdeb",
   "metadata": {},
   "outputs": [],
   "source": [
    "# Calculate median values for each column\n",
    "median_ratings_y = merged_df['Ratings_y'].median()\n",
    "median_distance = merged_df['DistanceFromCity'].median()\n",
    "\n",
    "# Fill NaN values in specified columns with median\n",
    "merged_df['Ratings_y'].fillna(median_ratings_y, inplace=True)\n",
    "merged_df['DistanceFromCity'].fillna(median_distance, inplace=True)\n",
    "merged_df['Best_time_to_visit'].fillna(method='ffill', inplace=True)\n",
    "merged_df['City_desc'].fillna(method='ffill', inplace=True)\n",
    "merged_df['Distance'].fillna(method='ffill', inplace=True)\n",
    "merged_df['City_desc'].fillna(method='ffill', inplace=True)\n",
    "merged_df['Place_desc'].fillna(method='ffill', inplace=True)"
   ]
  },
  {
   "cell_type": "code",
   "execution_count": 8,
   "id": "9b53ac81",
   "metadata": {},
   "outputs": [
    {
     "data": {
      "text/plain": [
       "City                  0\n",
       "Ratings_x             0\n",
       "Ideal_duration        0\n",
       "Best_time_to_visit    0\n",
       "City_desc             0\n",
       "Type                  0\n",
       "Place                 0\n",
       "Ratings_y             0\n",
       "Distance              0\n",
       "DistanceFromCity      0\n",
       "Place_desc            0\n",
       "dtype: int64"
      ]
     },
     "execution_count": 8,
     "metadata": {},
     "output_type": "execute_result"
    }
   ],
   "source": [
    "merged_df.isna().sum()"
   ]
  },
  {
   "cell_type": "code",
   "execution_count": 9,
   "id": "ce53116a",
   "metadata": {},
   "outputs": [],
   "source": [
    "merged_df.reset_index(drop=True, inplace=True)\n",
    "merged_df['Place'] = merged_df['Place'].str.replace(r'^\\d+\\.\\s*', '', regex=True)"
   ]
  },
  {
   "cell_type": "code",
   "execution_count": 10,
   "id": "0bc8e00f",
   "metadata": {},
   "outputs": [
    {
     "data": {
      "text/html": [
       "<div>\n",
       "<style scoped>\n",
       "    .dataframe tbody tr th:only-of-type {\n",
       "        vertical-align: middle;\n",
       "    }\n",
       "\n",
       "    .dataframe tbody tr th {\n",
       "        vertical-align: top;\n",
       "    }\n",
       "\n",
       "    .dataframe thead th {\n",
       "        text-align: right;\n",
       "    }\n",
       "</style>\n",
       "<table border=\"1\" class=\"dataframe\">\n",
       "  <thead>\n",
       "    <tr style=\"text-align: right;\">\n",
       "      <th></th>\n",
       "      <th>City</th>\n",
       "      <th>Ratings_x</th>\n",
       "      <th>Ideal_duration</th>\n",
       "      <th>Best_time_to_visit</th>\n",
       "      <th>City_desc</th>\n",
       "      <th>Type</th>\n",
       "      <th>Place</th>\n",
       "      <th>Ratings_y</th>\n",
       "      <th>Distance</th>\n",
       "      <th>DistanceFromCity</th>\n",
       "      <th>Place_desc</th>\n",
       "    </tr>\n",
       "  </thead>\n",
       "  <tbody>\n",
       "    <tr>\n",
       "      <th>0</th>\n",
       "      <td>Manali</td>\n",
       "      <td>4.5</td>\n",
       "      <td>2-4</td>\n",
       "      <td>October-June</td>\n",
       "      <td>[' One of the most popular hill stations in Hi...</td>\n",
       "      <td>Valley</td>\n",
       "      <td>Engage in the Adventures of Solang Valley</td>\n",
       "      <td>4.6</td>\n",
       "      <td>8 km  from city center</td>\n",
       "      <td>8.0</td>\n",
       "      <td>Solang Valley is one of the most popular tour...</td>\n",
       "    </tr>\n",
       "    <tr>\n",
       "      <th>1</th>\n",
       "      <td>Manali</td>\n",
       "      <td>4.5</td>\n",
       "      <td>2-4</td>\n",
       "      <td>October-June</td>\n",
       "      <td>[' One of the most popular hill stations in Hi...</td>\n",
       "      <td>Waterfall</td>\n",
       "      <td>Jogini Waterfall</td>\n",
       "      <td>4.6</td>\n",
       "      <td>4 km  from city center</td>\n",
       "      <td>4.0</td>\n",
       "      <td>Jogini Waterfall is located about 3 kilometres...</td>\n",
       "    </tr>\n",
       "    <tr>\n",
       "      <th>2</th>\n",
       "      <td>Manali</td>\n",
       "      <td>4.5</td>\n",
       "      <td>2-4</td>\n",
       "      <td>October-June</td>\n",
       "      <td>[' One of the most popular hill stations in Hi...</td>\n",
       "      <td>Temple</td>\n",
       "      <td>Hadimba Temple</td>\n",
       "      <td>4.4</td>\n",
       "      <td>1 km  from city center</td>\n",
       "      <td>1.0</td>\n",
       "      <td>Hadimba temple, away from the hustle and bust...</td>\n",
       "    </tr>\n",
       "  </tbody>\n",
       "</table>\n",
       "</div>"
      ],
      "text/plain": [
       "     City  Ratings_x Ideal_duration Best_time_to_visit  \\\n",
       "0  Manali        4.5            2-4       October-June   \n",
       "1  Manali        4.5            2-4       October-June   \n",
       "2  Manali        4.5            2-4       October-June   \n",
       "\n",
       "                                           City_desc       Type  \\\n",
       "0  [' One of the most popular hill stations in Hi...     Valley   \n",
       "1  [' One of the most popular hill stations in Hi...  Waterfall   \n",
       "2  [' One of the most popular hill stations in Hi...     Temple   \n",
       "\n",
       "                                       Place  Ratings_y  \\\n",
       "0  Engage in the Adventures of Solang Valley        4.6   \n",
       "1                           Jogini Waterfall        4.6   \n",
       "2                             Hadimba Temple        4.4   \n",
       "\n",
       "                 Distance  DistanceFromCity  \\\n",
       "0  8 km  from city center               8.0   \n",
       "1  4 km  from city center               4.0   \n",
       "2  1 km  from city center               1.0   \n",
       "\n",
       "                                          Place_desc  \n",
       "0   Solang Valley is one of the most popular tour...  \n",
       "1  Jogini Waterfall is located about 3 kilometres...  \n",
       "2   Hadimba temple, away from the hustle and bust...  "
      ]
     },
     "execution_count": 10,
     "metadata": {},
     "output_type": "execute_result"
    }
   ],
   "source": [
    "merged_df.head(3)"
   ]
  },
  {
   "cell_type": "code",
   "execution_count": 11,
   "id": "5419159c",
   "metadata": {},
   "outputs": [
    {
     "data": {
      "text/html": [
       "<div>\n",
       "<style scoped>\n",
       "    .dataframe tbody tr th:only-of-type {\n",
       "        vertical-align: middle;\n",
       "    }\n",
       "\n",
       "    .dataframe tbody tr th {\n",
       "        vertical-align: top;\n",
       "    }\n",
       "\n",
       "    .dataframe thead th {\n",
       "        text-align: right;\n",
       "    }\n",
       "</style>\n",
       "<table border=\"1\" class=\"dataframe\">\n",
       "  <thead>\n",
       "    <tr style=\"text-align: right;\">\n",
       "      <th></th>\n",
       "      <th>City</th>\n",
       "      <th>Ratings_x</th>\n",
       "      <th>Ideal_duration</th>\n",
       "      <th>Best_time_to_visit</th>\n",
       "      <th>City_desc</th>\n",
       "      <th>Type</th>\n",
       "      <th>Place</th>\n",
       "      <th>Ratings_y</th>\n",
       "      <th>Distance</th>\n",
       "      <th>DistanceFromCity</th>\n",
       "      <th>Place_desc</th>\n",
       "    </tr>\n",
       "  </thead>\n",
       "  <tbody>\n",
       "    <tr>\n",
       "      <th>1614</th>\n",
       "      <td>Poovar</td>\n",
       "      <td>4.3</td>\n",
       "      <td>1</td>\n",
       "      <td>-</td>\n",
       "      <td>[' Poovar is a small rustic town situated 27 k...</td>\n",
       "      <td>Falls</td>\n",
       "      <td>Thirparappu Falls</td>\n",
       "      <td>4.0</td>\n",
       "      <td>13 km  from city center</td>\n",
       "      <td>13.0</td>\n",
       "      <td>Located at a distance of about 55 kilometres ...</td>\n",
       "    </tr>\n",
       "    <tr>\n",
       "      <th>1615</th>\n",
       "      <td>Poovar</td>\n",
       "      <td>4.3</td>\n",
       "      <td>1</td>\n",
       "      <td>-</td>\n",
       "      <td>[' Poovar is a small rustic town situated 27 k...</td>\n",
       "      <td>Shopping</td>\n",
       "      <td>Shopping in Poovar</td>\n",
       "      <td>3.0</td>\n",
       "      <td>0 km  from city center</td>\n",
       "      <td>0.0</td>\n",
       "      <td>Poovar is a small coastal area where one does...</td>\n",
       "    </tr>\n",
       "    <tr>\n",
       "      <th>1616</th>\n",
       "      <td>Poovar</td>\n",
       "      <td>4.3</td>\n",
       "      <td>1</td>\n",
       "      <td>-</td>\n",
       "      <td>[' Poovar is a small rustic town situated 27 k...</td>\n",
       "      <td>Beach</td>\n",
       "      <td>Kovalam Beach</td>\n",
       "      <td>3.1</td>\n",
       "      <td>12 km  from city center</td>\n",
       "      <td>12.0</td>\n",
       "      <td>A captivating beach with nature's beauty at i...</td>\n",
       "    </tr>\n",
       "  </tbody>\n",
       "</table>\n",
       "</div>"
      ],
      "text/plain": [
       "        City  Ratings_x Ideal_duration Best_time_to_visit  \\\n",
       "1614  Poovar        4.3              1                  -   \n",
       "1615  Poovar        4.3              1                  -   \n",
       "1616  Poovar        4.3              1                  -   \n",
       "\n",
       "                                              City_desc      Type  \\\n",
       "1614  [' Poovar is a small rustic town situated 27 k...     Falls   \n",
       "1615  [' Poovar is a small rustic town situated 27 k...  Shopping   \n",
       "1616  [' Poovar is a small rustic town situated 27 k...     Beach   \n",
       "\n",
       "                   Place  Ratings_y                 Distance  \\\n",
       "1614   Thirparappu Falls        4.0  13 km  from city center   \n",
       "1615  Shopping in Poovar        3.0   0 km  from city center   \n",
       "1616       Kovalam Beach        3.1  12 km  from city center   \n",
       "\n",
       "      DistanceFromCity                                         Place_desc  \n",
       "1614              13.0   Located at a distance of about 55 kilometres ...  \n",
       "1615               0.0   Poovar is a small coastal area where one does...  \n",
       "1616              12.0   A captivating beach with nature's beauty at i...  "
      ]
     },
     "execution_count": 11,
     "metadata": {},
     "output_type": "execute_result"
    }
   ],
   "source": [
    "merged_df.tail(3)"
   ]
  },
  {
   "cell_type": "code",
   "execution_count": 12,
   "id": "b7dcec8f",
   "metadata": {},
   "outputs": [
    {
     "name": "stdout",
     "output_type": "stream",
     "text": [
      "<class 'pandas.core.frame.DataFrame'>\n",
      "RangeIndex: 1617 entries, 0 to 1616\n",
      "Data columns (total 11 columns):\n",
      " #   Column              Non-Null Count  Dtype  \n",
      "---  ------              --------------  -----  \n",
      " 0   City                1617 non-null   object \n",
      " 1   Ratings_x           1617 non-null   float64\n",
      " 2   Ideal_duration      1617 non-null   object \n",
      " 3   Best_time_to_visit  1617 non-null   object \n",
      " 4   City_desc           1617 non-null   object \n",
      " 5   Type                1617 non-null   object \n",
      " 6   Place               1617 non-null   object \n",
      " 7   Ratings_y           1617 non-null   float64\n",
      " 8   Distance            1617 non-null   object \n",
      " 9   DistanceFromCity    1617 non-null   float64\n",
      " 10  Place_desc          1617 non-null   object \n",
      "dtypes: float64(3), object(8)\n",
      "memory usage: 139.1+ KB\n"
     ]
    }
   ],
   "source": [
    "merged_df.info()"
   ]
  },
  {
   "cell_type": "markdown",
   "id": "716a49f1",
   "metadata": {},
   "source": [
    "# Predictive Model"
   ]
  },
  {
   "cell_type": "code",
   "execution_count": 13,
   "id": "3af2685d",
   "metadata": {},
   "outputs": [],
   "source": [
    "#merged_df.to_csv(\"Data/training_data.csv\")"
   ]
  },
  {
   "cell_type": "code",
   "execution_count": 14,
   "id": "38802c2e",
   "metadata": {},
   "outputs": [
    {
     "name": "stdout",
     "output_type": "stream",
     "text": [
      "Accuracy: 0.00911854103343465\n",
      "Predicted place to visit: Radhe Shopping Mall\n"
     ]
    },
    {
     "name": "stderr",
     "output_type": "stream",
     "text": [
      "C:\\Users\\ADMIN\\anaconda3\\Lib\\site-packages\\sklearn\\base.py:464: UserWarning: X does not have valid feature names, but DecisionTreeClassifier was fitted with feature names\n",
      "  warnings.warn(\n"
     ]
    }
   ],
   "source": [
    "import pandas as pd\n",
    "from sklearn.model_selection import train_test_split\n",
    "from sklearn.preprocessing import LabelEncoder\n",
    "from sklearn.tree import DecisionTreeClassifier\n",
    "from sklearn.metrics import accuracy_score\n",
    "\n",
    "# Assuming df is the DataFrame containing the data\n",
    "df = pd.read_csv(\"Data/mahat.csv\")\n",
    "\n",
    "# Drop irrelevant columns and rows with missing values\n",
    "df = df.dropna(subset=['Best_time_to_visit', 'Type', 'DistanceFromCity', 'Place'])\n",
    "\n",
    "# Encode categorical variables\n",
    "label_encoders = {}\n",
    "for col in ['Best_time_to_visit', 'Type', 'DistanceFromCity', 'Place', 'City']:\n",
    "    label_encoders[col] = LabelEncoder()\n",
    "    df[col] = label_encoders[col].fit_transform(df[col])\n",
    "\n",
    "# Split the data into features (X) and target (y)\n",
    "X = df[['City',  'Type']]\n",
    "y = df['Place']\n",
    "\n",
    "# Split the data into training and testing sets\n",
    "X_train, X_test, y_train, y_test = train_test_split(X, y, test_size=0.2, random_state=42)\n",
    "\n",
    "# Train a decision tree classifier\n",
    "clf = DecisionTreeClassifier()\n",
    "clf.fit(X_train, y_train)\n",
    "\n",
    "# Make predictions on the testing set\n",
    "y_pred = clf.predict(X_test)\n",
    "\n",
    "# Evaluate the model\n",
    "accuracy = accuracy_score(y_test, y_pred)\n",
    "print(\"Accuracy:\", accuracy)\n",
    "\n",
    "# Example prediction\n",
    "user_input = {'City': 'Ahmednagar', 'Type': 'Shopping'}\n",
    "user_input_encoded = {col: label_encoders[col].transform([user_input[col]])[0] if user_input[col] in label_encoders[col].classes_ else -1 for col in user_input}\n",
    "predicted_place_encoded = clf.predict([list(user_input_encoded.values())])[0]\n",
    "predicted_place = label_encoders['Place'].inverse_transform([predicted_place_encoded])[0]\n",
    "print(\"Predicted place to visit:\", predicted_place)"
   ]
  },
  {
   "cell_type": "code",
   "execution_count": 15,
   "id": "5d44634b",
   "metadata": {},
   "outputs": [
    {
     "name": "stdout",
     "output_type": "stream",
     "text": [
      "Recommended place to visit: Radhe Shopping Mall \n",
      "\n",
      "Recommended City: Ahmedabad \n",
      "\n",
      "Place Description: Enjoy shopping at Radhe Shopping Mall for a great experience and a variety of brands to choose from. \n",
      "\n",
      "Ratings: 3.0 \n",
      "\n"
     ]
    }
   ],
   "source": [
    "df = pd.read_csv(\"Data/training_data.csv\")\n",
    "\n",
    "predicted_row = df[df['Place'] == predicted_place]\n",
    "\n",
    "# Retrieve the corresponding City and Place_desc\n",
    "recommended_city = predicted_row['City'].iloc[0]\n",
    "recommended_place_desc = predicted_row['Place_desc'].iloc[0]\n",
    "recommended_place_ratings = predicted_row['Ratings_y'].iloc[0]\n",
    "\n",
    "# Print the results\n",
    "print(\"Recommended place to visit:\", predicted_place, \"\\n\")\n",
    "print(\"Recommended City:\", recommended_city, \"\\n\")\n",
    "print(\"Place Description:\", recommended_place_desc, \"\\n\")\n",
    "print(\"Ratings:\", recommended_place_ratings, \"\\n\")"
   ]
  },
  {
   "cell_type": "markdown",
   "id": "fdea7490",
   "metadata": {},
   "source": [
    "# Recommender Engine"
   ]
  },
  {
   "cell_type": "code",
   "execution_count": 16,
   "id": "0f7e750d",
   "metadata": {},
   "outputs": [],
   "source": [
    "import pandas as pd\n",
    "from sklearn.feature_extraction.text import TfidfVectorizer\n",
    "from sklearn.metrics.pairwise import linear_kernel"
   ]
  },
  {
   "cell_type": "code",
   "execution_count": 17,
   "id": "6c97ac94",
   "metadata": {},
   "outputs": [],
   "source": [
    "import pandas as pd\n",
    "from sklearn.feature_extraction.text import TfidfVectorizer\n",
    "from sklearn.metrics.pairwise import linear_kernel\n",
    "\n",
    "# Convert 'Best_time_to_visit' to dummy variables using one-hot encoding\n",
    "df = pd.get_dummies(merged_df, columns=['Best_time_to_visit'])\n",
    "\n",
    "# Concatenate 'City' and numerical features into a single feature vector\n",
    "df['features'] = df['City'] + ' ' + df['Ratings_y'].astype(str) + ' ' + df['DistanceFromCity'].astype(str)\n",
    "\n",
    "# TF-IDF Vectorization\n",
    "tfidf = TfidfVectorizer()\n",
    "tfidf_matrix = tfidf.fit_transform(df['features'])\n",
    "\n",
    "# Compute cosine similarity\n",
    "cosine_sim = linear_kernel(tfidf_matrix, tfidf_matrix)"
   ]
  },
  {
   "cell_type": "code",
   "execution_count": 18,
   "id": "9d23e1cf",
   "metadata": {},
   "outputs": [
    {
     "name": "stdout",
     "output_type": "stream",
     "text": [
      "944                       Radhe Shopping Mall\n",
      "930                             Kankaria Lake\n",
      "932                Bhadra Fort & Teen Darwaza\n",
      "934                    Hathisingh Jain Temple\n",
      "935                   Law Garden Night Market\n",
      "936                             City Shopping\n",
      "937                     Calico Textile Museum\n",
      "938    Sardar Vallabhai Patel National Museum\n",
      "940                          Kamala Nehru Zoo\n",
      "941                             ISKCON Temple\n",
      "Name: Place, dtype: object\n"
     ]
    }
   ],
   "source": [
    "# Function to recommend places based on similarity\n",
    "def recommend(place, cosine_sim=cosine_sim):\n",
    "    places = df[df['Place'] == place]\n",
    "    \n",
    "    if places.empty:\n",
    "        print(f\"Error: Place '{place}' not found in the dataset.\")\n",
    "        return\n",
    "    \n",
    "    idx = places.index[0]\n",
    "    sim_scores = list(enumerate(cosine_sim[idx]))\n",
    "    sim_scores = sorted(sim_scores, key=lambda x: x[1], reverse=True)\n",
    "    sim_scores = sim_scores[1:11]\n",
    "    place_indices = [i[0] for i in sim_scores]\n",
    "    return df['Place'].iloc[place_indices]\n",
    "\n",
    "\n",
    "# Example: Recommend places similar to 'Manali Valley'\n",
    "recommendations = recommend(predicted_place)\n",
    "if recommendations is not None:\n",
    "    print(recommendations)"
   ]
  },
  {
   "cell_type": "code",
   "execution_count": null,
   "id": "12648356",
   "metadata": {},
   "outputs": [],
   "source": []
  },
  {
   "cell_type": "code",
   "execution_count": null,
   "id": "8f693d7f",
   "metadata": {},
   "outputs": [],
   "source": []
  }
 ],
 "metadata": {
  "kernelspec": {
   "display_name": "Python 3 (ipykernel)",
   "language": "python",
   "name": "python3"
  },
  "language_info": {
   "codemirror_mode": {
    "name": "ipython",
    "version": 3
   },
   "file_extension": ".py",
   "mimetype": "text/x-python",
   "name": "python",
   "nbconvert_exporter": "python",
   "pygments_lexer": "ipython3",
   "version": "3.11.4"
  }
 },
 "nbformat": 4,
 "nbformat_minor": 5
}
